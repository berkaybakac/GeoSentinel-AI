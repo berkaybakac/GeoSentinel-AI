{
 "cells": [
  {
   "cell_type": "code",
   "execution_count": null,
   "id": "ef6fe0ef",
   "metadata": {},
   "outputs": [
    {
     "name": "stdout",
     "output_type": "stream",
     "text": [
      "Config keys: ['version', 'api', 'geofence', 'filters', 'features', 'model', 'dataset']\n",
      "Mapping keys: ['device_id', 'timestamp', 'lat', 'lon', 'speed_kmh', 'acceleration', 'heading', 'steering_angle', 'labels']\n"
     ]
    }
   ],
   "source": [
    "# --- Kurulum\n",
    "import json, math\n",
    "from pathlib import Path\n",
    "import pandas as pd\n",
    "import numpy as np\n",
    "import matplotlib.pyplot as plt\n",
    "\n",
    "ROOT = Path(\".\").resolve()\n",
    "CFG_PATH = ROOT / \"configs\" / \"config.json\"\n",
    "MAP_PATH = ROOT / \"configs\" / \"mapping_dbra24.json\"\n",
    "DATA_PATH = ROOT / \"data\" / \"processed\" / \"dbra24_test.jsonl\"\n",
    "\n",
    "OUT = ROOT / \"out\"\n",
    "PLOTS = OUT / \"plots\"\n",
    "OUT.mkdir(parents=True, exist_ok=True)\n",
    "PLOTS.mkdir(parents=True, exist_ok=True)\n",
    "\n",
    "CFG = json.loads(CFG_PATH.read_text(encoding=\"utf-8\"))\n",
    "MAP = json.loads(MAP_PATH.read_text(encoding=\"utf-8\"))\n",
    "\n",
    "print(\"Config keys:\", list(CFG.keys()))\n",
    "print(\"Mapping keys:\", list(MAP.keys()))\n"
   ]
  },
  {
   "cell_type": "code",
   "execution_count": 2,
   "id": "5684f8ea",
   "metadata": {},
   "outputs": [
    {
     "name": "stdout",
     "output_type": "stream",
     "text": [
      "   device_id                 timestamp        lat        lon      speed  \\\n",
      "0       1001 2023-01-01 00:00:00+00:00  38.916143 -80.345269  10.967957   \n",
      "1       1001 2023-01-01 00:00:05+00:00  46.670788 -96.459125  14.884108   \n",
      "2       1001 2023-01-01 00:00:09+00:00  42.731518 -79.850442  19.126750   \n",
      "\n",
      "   label_geofence  label_route  label_event  \n",
      "0           False        False        False  \n",
      "1           False        False        False  \n",
      "2           False        False        False  \n",
      "Rows: 120000\n"
     ]
    }
   ],
   "source": [
    "# --- Veriyi yükle\n",
    "df = pd.read_json(DATA_PATH, lines=True)\n",
    "print(df.head(3))\n",
    "print(\"Rows:\", len(df))\n"
   ]
  },
  {
   "cell_type": "code",
   "execution_count": 3,
   "id": "9ace5b3c",
   "metadata": {},
   "outputs": [
    {
     "name": "stdout",
     "output_type": "stream",
     "text": [
      "Eksik kolonlar: ['vehicle_id', 'latitude', 'longitude', 'acceleration', 'heading', 'steering_angle']\n"
     ]
    }
   ],
   "source": [
    "# --- Eksik kolon kontrolü (mapping'e göre)\n",
    "expected = {\n",
    "    \"device_id\": MAP.get(\"device_id\"),\n",
    "    \"timestamp\": MAP.get(\"timestamp\"),\n",
    "    \"lat\": MAP.get(\"lat\"),\n",
    "    \"lon\": MAP.get(\"lon\"),\n",
    "    \"speed_kmh\": MAP.get(\"speed_kmh\"),\n",
    "    \"acceleration\": MAP.get(\"acceleration\"),\n",
    "    \"heading\": MAP.get(\"heading\"),\n",
    "    \"steering_angle\": MAP.get(\"steering_angle\"),\n",
    "}\n",
    "missing = [src for src in expected.values() if src and src not in df.columns]\n",
    "json.dump({\"missing\": missing}, open(OUT / \"missing_columns.json\", \"w\"), indent=2)\n",
    "print(\"Eksik kolonlar:\", missing if missing else \"yok\")\n"
   ]
  },
  {
   "cell_type": "code",
   "execution_count": 4,
   "id": "eb2a3233",
   "metadata": {},
   "outputs": [
    {
     "data": {
      "text/plain": [
       "{'rows': 120000,\n",
       " 'columns': ['device_id',\n",
       "  'timestamp',\n",
       "  'lat',\n",
       "  'lon',\n",
       "  'speed',\n",
       "  'label_geofence',\n",
       "  'label_route',\n",
       "  'label_event'],\n",
       " 'null_counts': {'device_id': 0,\n",
       "  'timestamp': 0,\n",
       "  'lat': 0,\n",
       "  'lon': 0,\n",
       "  'speed': 0,\n",
       "  'label_geofence': 0,\n",
       "  'label_route': 0,\n",
       "  'label_event': 0},\n",
       " 'device_count': 5,\n",
       " 'speed_mps_stats': {'count': 120000.0,\n",
       "  'mean': 8.325551963219318,\n",
       "  'std': 8.392181478141703,\n",
       "  'min': 4.372860352138889e-05,\n",
       "  '25%': 2.3931249819841938,\n",
       "  '50%': 5.73141864809461,\n",
       "  '75%': 11.511064398712614,\n",
       "  'max': 101.6011419385062},\n",
       " 'speed_kmh_stats': {'count': 120000.0,\n",
       "  'mean': 29.971987067589545,\n",
       "  'std': 30.21185332131013,\n",
       "  'min': 0.000157422972677,\n",
       "  '25%': 8.615249935143098,\n",
       "  '50%': 20.633107133140594,\n",
       "  '75%': 41.43983183536541,\n",
       "  'max': 365.76411097862234}}"
      ]
     },
     "execution_count": 4,
     "metadata": {},
     "output_type": "execute_result"
    }
   ],
   "source": [
    "# --- Kalite özeti\n",
    "summary = {\n",
    "    \"rows\": int(len(df)),\n",
    "    \"columns\": df.columns.tolist(),\n",
    "    \"null_counts\": df.isna().sum().to_dict(),\n",
    "    \"device_count\": int(df.get(\"device_id\", pd.Series(dtype=object)).nunique()) if \"device_id\" in df.columns else None,\n",
    "}\n",
    "\n",
    "if \"speed\" in df.columns:\n",
    "    speed_mps = df[\"speed\"].astype(float)\n",
    "    summary[\"speed_mps_stats\"] = speed_mps.describe().to_dict()\n",
    "    summary[\"speed_kmh_stats\"] = (speed_mps*3.6).describe().to_dict()\n",
    "elif \"speed_kmh\" in df.columns:\n",
    "    speed_kmh = df[\"speed_kmh\"].astype(float)\n",
    "    summary[\"speed_kmh_stats\"] = speed_kmh.describe().to_dict()\n",
    "\n",
    "json.dump(summary, open(OUT / \"info_summary.json\", \"w\"), indent=2)\n",
    "summary\n"
   ]
  },
  {
   "cell_type": "code",
   "execution_count": 5,
   "id": "e4b87c87",
   "metadata": {},
   "outputs": [
    {
     "data": {
      "text/plain": [
       "{'lat0': 39.987503,\n",
       " 'lon0': -89.969652,\n",
       " 'radius_m': 31032.8,\n",
       " 'max_speed_kmh_suggestion': 138.27735228326713,\n",
       " 'debounce_sec_hint': 10}"
      ]
     },
     "execution_count": 5,
     "metadata": {},
     "output_type": "execute_result"
    }
   ],
   "source": [
    "# --- Geofence merkezi ve yarıçap önerisi\n",
    "lat0 = float(df['lat'].median())\n",
    "lon0 = float(df['lon'].median())\n",
    "\n",
    "R = 6371000.0\n",
    "phi1, lam1 = np.radians(lat0), np.radians(lon0)\n",
    "phi2, lam2 = np.radians(df['lat'].astype(float)), np.radians(df['lon'].astype(float))\n",
    "a = np.sin((phi2-phi1)/2.0)**2 + np.cos(phi1)*np.cos(phi2)*np.sin((lam2-lam1)/2.0)**2\n",
    "dist_m = 2*R*np.arcsin(np.sqrt(a))\n",
    "\n",
    "core_mask = dist_m < 30_000  # 30 km çekirdek\n",
    "core = dist_m[core_mask]\n",
    "radius_m = float(np.percentile(core, 95)*1.05) if len(core) else 500.0\n",
    "\n",
    "sugg = {\n",
    "    \"lat0\": round(lat0, 6),\n",
    "    \"lon0\": round(lon0, 6),\n",
    "    \"radius_m\": round(radius_m, 1),\n",
    "    \"max_speed_kmh_suggestion\": float(np.percentile((df.get(\"speed\")*3.6 if \"speed\" in df.columns else df.get(\"speed_kmh\")), 99)) if (\"speed\" in df.columns or \"speed_kmh\" in df.columns) else None,\n",
    "    \"debounce_sec_hint\": 10\n",
    "}\n",
    "json.dump(sugg, open(OUT / \"suggestions.json\", \"w\"), indent=2)\n",
    "sugg\n"
   ]
  },
  {
   "cell_type": "code",
   "execution_count": 6,
   "id": "fd838fc8",
   "metadata": {},
   "outputs": [
    {
     "data": {
      "image/png": "[encoded data removed]",
      "text/plain": [
       "<Figure size 640x480 with 1 Axes>"
      ]
     },
     "metadata": {},
     "output_type": "display_data"
    },
    {
     "data": {
      "image/png": "[encoded data removed]",
      "text/plain": [
       "<Figure size 640x480 with 1 Axes>"
      ]
     },
     "metadata": {},
     "output_type": "display_data"
    }
   ],
   "source": [
    "# --- Görseller\n",
    "if \"speed\" in df.columns or \"speed_kmh\" in df.columns:\n",
    "    v = (df[\"speed\"]*3.6 if \"speed\" in df.columns else df[\"speed_kmh\"]).astype(float)\n",
    "    plt.figure()\n",
    "    v.plot.hist(bins=50)\n",
    "    plt.title(\"Hız (km/h)\")\n",
    "    plt.xlabel(\"km/h\"); plt.ylabel(\"frekans\")\n",
    "    plt.tight_layout()\n",
    "    plt.savefig(PLOTS / \"speed_hist_kmh.png\", dpi=160)\n",
    "    plt.show()\n",
    "\n",
    "plt.figure()\n",
    "pd.Series(dist_m).plot.hist(bins=50)\n",
    "plt.title(\"Merkeze Uzaklık (m)\")\n",
    "plt.xlabel(\"metre\"); plt.ylabel(\"frekans\")\n",
    "plt.tight_layout()\n",
    "plt.savefig(PLOTS / \"distance_hist_m.png\", dpi=160)\n",
    "plt.show()\n"
   ]
  },
  {
   "cell_type": "markdown",
   "id": "11664bd7",
   "metadata": {},
   "source": [
    "Üretilen bilgiler ne için kullanılabilir?\n",
    "suggestions.json → configs/config.json içinde geofence.lat0, geofence.lon0, geofence.radius_m ve filters.max_speed_kmh değerlerini güncellerken doğrudan referans.\n",
    "info_summary.json → veri kalitesi ve hız dağılımı bilgileri; filtre sınırlarını ve veri temizleme kurallarını belirlerken temel alınır.\n",
    "missing_columns.json → mapping_dbra24.json dosyanı düzeltmek veya veri ön işleme script’ini revize etmek için rehber.\n",
    "plots/* → rapor/dokümantasyon için görsel kanıt; gerekirse LLM’e vererek yönetici özeti ürettirebilirsin."
   ]
  }
 ],
 "metadata": {
  "kernelspec": {
   "display_name": "geosentinel",
   "language": "python",
   "name": "python3"
  },
  "language_info": {
   "codemirror_mode": {
    "name": "ipython",
    "version": 3
   },
   "file_extension": ".py",
   "mimetype": "text/x-python",
   "name": "python",
   "nbconvert_exporter": "python",
   "pygments_lexer": "ipython3",
   "version": "3.11.13"
  }
 },
 "nbformat": 4,
 "nbformat_minor": 5
}
